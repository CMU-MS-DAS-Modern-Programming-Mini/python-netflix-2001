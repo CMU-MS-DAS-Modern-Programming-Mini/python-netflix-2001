{
  "nbformat": 4,
  "nbformat_minor": 0,
  "metadata": {
    "colab": {
      "provenance": [],
      "authorship_tag": "ABX9TyMTCwC5GmZRAhYRuOTawjj1",
      "include_colab_link": true
    },
    "kernelspec": {
      "name": "python3",
      "display_name": "Python 3"
    },
    "language_info": {
      "name": "python"
    }
  },
  "cells": [
    {
      "cell_type": "markdown",
      "metadata": {
        "id": "view-in-github",
        "colab_type": "text"
      },
      "source": [
        "<a href=\"https://colab.research.google.com/github/CMU-MS-DAS-Modern-Programming-Mini/python-netflix-2001/blob/main/Netflix_Dataset_Latest_2021.ipynb\" target=\"_parent\"><img src=\"https://colab.research.google.com/assets/colab-badge.svg\" alt=\"Open In Colab\"/></a>"
      ]
    },
    {
      "cell_type": "markdown",
      "source": [
        "# Netflix Dataset Latest 2021\n",
        "\n",
        "<img src=\"https://external-content.duckduckgo.com/iu/?u=https%3A%2F%2Fwww.techdaily.com.au%2Fb2%2Fwp-content%2Fuploads%2F2015%2F03%2FNetflix_Logo_Print_FourColorCMYK.png&f=1&nofb=1\" width=\"50%\" />\n",
        "\n",
        "Name:\n",
        "\n",
        "Andrew ID:"
      ],
      "metadata": {
        "id": "9CbB781STQuf"
      }
    },
    {
      "cell_type": "code",
      "execution_count": null,
      "metadata": {
        "id": "UV3NCTGmTOnV"
      },
      "outputs": [],
      "source": [
        "import pandas as pd\n",
        "from google.colab import drive\n",
        "drive.mount('/content/drive')\n",
        "\n",
        "#https://www.kaggle.com/datasets/syedmubarak/netflix-dataset-latest-2021\n",
        "filename = '/content/drive/My Drive/38610/datasets/Netflix Dataset Latest 2021.xlsx'\n",
        "df = pd.read_excel( filename )\n",
        "\n",
        "df"
      ]
    },
    {
      "cell_type": "markdown",
      "source": [
        "## Exercise\n",
        "\n",
        "1. Find all movies available in the United States. Print dataframe."
      ],
      "metadata": {
        "id": "Yp51i_4q2jVY"
      }
    },
    {
      "cell_type": "code",
      "source": [
        "#INSERT CODE HERE"
      ],
      "metadata": {
        "id": "VtRjZWUnhHMh"
      },
      "execution_count": null,
      "outputs": []
    },
    {
      "cell_type": "markdown",
      "source": [
        "2. Attempt to to download the images for all movies available in Thailand. \n",
        "  \n",
        "    a. Create a folder (programmatically) named `Netflix` on your course directory on Google Drive. \n",
        "  \n",
        "    b. Add column `Local Images`.\n",
        "  \n",
        "    c. Download the images on column `Images`. \n",
        "  \n",
        "    d. If the download was succesful, then add the local path to the column `Local images`. Add `None` otherwise."
      ],
      "metadata": {
        "id": "7idxMiLohHT0"
      }
    },
    {
      "cell_type": "code",
      "source": [
        "#INSERT CODE HERE"
      ],
      "metadata": {
        "id": "l0mawLEahHa9"
      },
      "execution_count": null,
      "outputs": []
    },
    {
      "cell_type": "markdown",
      "source": [
        "3. Add a column to the table named `IMDb Availability`. If the link `IMDb Link` is unavailable, then populate the record as False. True otherwise."
      ],
      "metadata": {
        "id": "GHKfr483hHjs"
      }
    },
    {
      "cell_type": "code",
      "source": [
        "#INSERT CODE HERE"
      ],
      "metadata": {
        "id": "AM2emogqhHr2"
      },
      "execution_count": null,
      "outputs": []
    },
    {
      "cell_type": "markdown",
      "source": [
        "3. Make a histogram using each unique genre in the `Genre` column. \n",
        "\n",
        "**Hint**: split values in `Genre` column if needed."
      ],
      "metadata": {
        "id": "CBr-ZoL5hHzL"
      }
    },
    {
      "cell_type": "code",
      "source": [
        "#INSERT CODE HERE"
      ],
      "metadata": {
        "id": "uUuTR2R6lAe4"
      },
      "execution_count": null,
      "outputs": []
    }
  ]
}